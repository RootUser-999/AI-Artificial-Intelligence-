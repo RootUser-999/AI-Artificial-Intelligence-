{
 "cells": [
  {
   "cell_type": "markdown",
   "id": "c4b4f45f-e5f7-49f1-8d1a-17724088154f",
   "metadata": {},
   "source": [
    "## **SHAHZEB **\n",
    "## **FA22-BCS-051**\n",
    "## **6B**\n",
    "## **ARTIFICIAL INTILLIGENCE**"
   ]
  },
  {
   "cell_type": "markdown",
   "id": "a5a4c327",
   "metadata": {},
   "source": []
  },
  {
   "cell_type": "markdown",
   "id": "5bbd55f9-d035-4ae8-8b87-6096e00d8ff7",
   "metadata": {},
   "source": [
    "## **QUESTION NO#1**"
   ]
  },
  {
   "cell_type": "code",
   "execution_count": 15,
   "id": "978351a9-aa12-4cb6-8ffa-34670b5b8739",
   "metadata": {},
   "outputs": [
    {
     "name": "stderr",
     "output_type": "stream",
     "text": [
      "\n",
      "KeyboardInterrupt\n",
      "\n"
     ]
    }
   ],
   "source": [
    "\n",
    "def calculate_pizza_bill():\n",
    "   \n",
    "    prices = {\n",
    "        'small': 100,\n",
    "        'medium': 200,\n",
    "        'large': 300\n",
    "    }\n",
    "    \n",
    "    \n",
    "    size = input(\"Enter pizza size (small/medium/large): \").lower()\n",
    "    \n",
    "   \n",
    "    if size not in prices:\n",
    "        print(\"Invalid size. Please enter small, medium, or large.\")\n",
    "        return\n",
    "    \n",
    "    \n",
    "    bill = prices[size]\n",
    "    \n",
    "  \n",
    "    pepperoni = input(\"Do you want pepperoni? (yes/no): \").lower()\n",
    "    if pepperoni == 'yes':\n",
    "        if size == 'small':\n",
    "            bill += 30\n",
    "        else: \n",
    "            bill += 50\n",
    "    \n",
    " \n",
    "    extra_cheese = input(\"Do you want extra cheese? (yes/no): \").lower()\n",
    "    if extra_cheese == 'yes':\n",
    "        bill += 20\n",
    "    \n",
    "   \n",
    "    print(f\"Your final bill is: {bill} rupees\")\n",
    "\n",
    "\n",
    "calculate_pizza_bill()"
   ]
  },
  {
   "cell_type": "code",
   "execution_count": null,
   "id": "8717b473-e02a-4f64-ba57-747824d1f0a0",
   "metadata": {},
   "outputs": [],
   "source": []
  },
  {
   "cell_type": "markdown",
   "id": "52de82ec-376a-4dc2-b762-a7211555e695",
   "metadata": {},
   "source": [
    "## **QUESTION NO#2** \n"
   ]
  },
  {
   "cell_type": "markdown",
   "id": "ac1ab662-1a4c-4c81-83ea-9db7f331e4d1",
   "metadata": {},
   "source": [
    "## **PART#1**"
   ]
  },
  {
   "cell_type": "code",
   "execution_count": 2,
   "id": "d9311841-cceb-4070-9ee1-fed2792eb107",
   "metadata": {},
   "outputs": [
    {
     "name": "stdout",
     "output_type": "stream",
     "text": [
      "Factorial of 5: 120\n",
      "Factorial of 0: 1\n",
      "Factorial of 1: 1\n",
      "Factorial of 7: 5040\n",
      "Factorial of -3: Factorial is not defined for negative numbers.\n"
     ]
    }
   ],
   "source": [
    "\n",
    "def factorial(n):\n",
    "    if n < 0:\n",
    "        return \"Factorial is not defined for negative numbers.\"\n",
    "    elif n == 0 or n == 1:\n",
    "        return 1\n",
    "    else:\n",
    "        result = 1\n",
    "        for i in range(2, n + 1):\n",
    "            result *= i\n",
    "        return result\n",
    "\n",
    "\n",
    "print(\"Factorial of 5:\", factorial(5))  \n",
    "print(\"Factorial of 0:\", factorial(0))  \n",
    "print(\"Factorial of 1:\", factorial(1))  \n",
    "print(\"Factorial of 7:\", factorial(7)) \n",
    "print(\"Factorial of -3:\", factorial(-3)) "
   ]
  },
  {
   "cell_type": "code",
   "execution_count": null,
   "id": "d7a3b178-5b6d-4b12-8fd0-0ac93cf8f873",
   "metadata": {},
   "outputs": [],
   "source": []
  },
  {
   "cell_type": "markdown",
   "id": "8b185a3a-cdc2-4eaf-9b79-863959bf2e41",
   "metadata": {},
   "source": [
    "## **PART 2**"
   ]
  },
  {
   "cell_type": "code",
   "execution_count": 3,
   "id": "8a2bfcf7-94f5-4517-a048-f651640ee23d",
   "metadata": {},
   "outputs": [
    {
     "name": "stdout",
     "output_type": "stream",
     "text": [
      "Enter an integer:  23\n"
     ]
    },
    {
     "name": "stdout",
     "output_type": "stream",
     "text": [
      "23 is a prime number.\n"
     ]
    }
   ],
   "source": [
    "\n",
    "def is_prime(n):\n",
    "    if n <= 1:\n",
    "        return False  \n",
    "    for i in range(2, int(n**0.5) + 1):\n",
    "        if n % i == 0:\n",
    "            return False  \n",
    "    return True  \n",
    "\n",
    "\n",
    "try:\n",
    "    user_input = int(input(\"Enter an integer: \"))\n",
    "    if is_prime(user_input):\n",
    "        print(f\"{user_input} is a prime number.\")\n",
    "    else:\n",
    "        print(f\"{user_input} is not a prime number.\")\n",
    "except ValueError:\n",
    "    print(\"Please enter a valid integer.\")"
   ]
  },
  {
   "cell_type": "code",
   "execution_count": null,
   "id": "aea82f1e-d8d5-4eff-8f2f-fb873c354e21",
   "metadata": {},
   "outputs": [],
   "source": []
  },
  {
   "cell_type": "markdown",
   "id": "fad5af02-cbfb-4459-aaa2-b173bb073915",
   "metadata": {},
   "source": [
    "## ** PART 3**"
   ]
  },
  {
   "cell_type": "code",
   "execution_count": 4,
   "id": "4befd2a7-a6c6-4a45-8606-de8e87c933cb",
   "metadata": {},
   "outputs": [
    {
     "name": "stdout",
     "output_type": "stream",
     "text": [
      "Original list: [1, 2, 2, 3, 4, 4, 5, 1, 6]\n",
      "List with unique elements: [1, 2, 3, 4, 5, 6]\n"
     ]
    }
   ],
   "source": [
    "def unique_elements(input_list):\n",
    "    \n",
    "    unique_set = set(input_list)\n",
    "    \n",
    "    unique_list = list(unique_set)\n",
    "    return unique_list\n",
    "\n",
    "\n",
    "input_list = [1, 2, 2, 3, 4, 4, 5, 1, 6]\n",
    "result = unique_elements(input_list)\n",
    "print(\"Original list:\", input_list)\n",
    "print(\"List with unique elements:\", result)"
   ]
  },
  {
   "cell_type": "code",
   "execution_count": null,
   "id": "47a46d4a-144e-4f26-8a5f-e1147f275a7d",
   "metadata": {},
   "outputs": [],
   "source": []
  },
  {
   "cell_type": "markdown",
   "id": "a1f1c16e-da0c-4aae-a731-f807b6018c7b",
   "metadata": {},
   "source": [
    "## **PART 4**"
   ]
  },
  {
   "cell_type": "code",
   "execution_count": 6,
   "id": "587864a6-38d0-4c97-a84f-482355c97fa7",
   "metadata": {},
   "outputs": [
    {
     "name": "stdout",
     "output_type": "stream",
     "text": [
      "Enter pizza size (small/medium/large):  medium\n",
      "Would you like to add pepperoni? (yes/no):  yes\n",
      "Would you like extra cheese? (yes/no):  no\n",
      "Enter the names of all friends (comma-separated):  sohail,tufail,samo\n"
     ]
    },
    {
     "name": "stdout",
     "output_type": "stream",
     "text": [
      "Your final bill is: 250 rupees\n",
      "sohail will pay the bill.\n"
     ]
    }
   ],
   "source": [
    "import random\n",
    "\n",
    "\n",
    "def get_pizza_price(size):\n",
    "    prices = {\n",
    "        'small': 100,\n",
    "        'medium': 200,\n",
    "        'large': 300\n",
    "    }\n",
    "    return prices.get(size, 0)  \n",
    "\n",
    "\n",
    "def calculate_final_bill(size, add_pepperoni, add_extra_cheese):\n",
    "    bill = get_pizza_price(size)\n",
    "    \n",
    "    if add_pepperoni:\n",
    "        if size == 'small':\n",
    "            bill += 30\n",
    "        else:  \n",
    "            bill += 50\n",
    "            \n",
    "    if add_extra_cheese:\n",
    "        bill += 20\n",
    "        \n",
    "    return bill\n",
    "\n",
    "\n",
    "def select_payer(friends):\n",
    "    return random.choice(friends)\n",
    "\n",
    "\n",
    "def pizza_order_program():\n",
    "   \n",
    "    size = input(\"Enter pizza size (small/medium/large): \").lower()\n",
    "    \n",
    " \n",
    "    add_pepperoni = input(\"Would you like to add pepperoni? (yes/no): \").lower() == 'yes'\n",
    "    \n",
    "   \n",
    "    add_extra_cheese = input(\"Would you like extra cheese? (yes/no): \").lower() == 'yes'\n",
    "    \n",
    "\n",
    "    friends_input = input(\"Enter the names of all friends (comma-separated): \")\n",
    "    friends = [name.strip() for name in friends_input.split(',')]\n",
    "    \n",
    "  \n",
    "    final_bill = calculate_final_bill(size, add_pepperoni, add_extra_cheese)\n",
    "    \n",
    "    \n",
    "    payer = select_payer(friends)\n",
    "    \n",
    "    \n",
    "    print(f\"Your final bill is: {final_bill} rupees\")\n",
    "    print(f\"{payer} will pay the bill.\")\n",
    "\n",
    "\n",
    "pizza_order_program()"
   ]
  },
  {
   "cell_type": "code",
   "execution_count": null,
   "id": "1163acd6-9fb6-42d1-a551-cc225813678a",
   "metadata": {},
   "outputs": [],
   "source": []
  },
  {
   "cell_type": "markdown",
   "id": "a1a11006-5b28-4e1f-bba8-cdc519124dd1",
   "metadata": {},
   "source": [
    "## PART **5**"
   ]
  },
  {
   "cell_type": "code",
   "execution_count": 9,
   "id": "ce051778-68b0-499c-894f-df94e0a7daf9",
   "metadata": {},
   "outputs": [
    {
     "name": "stdout",
     "output_type": "stream",
     "text": [
      "Student Name: Ayesha\n",
      "Roll Number: 101\n",
      "Marks: 85\n",
      "\n",
      "Student Name: Bilal\n",
      "Roll Number: 102\n",
      "Marks: 90\n"
     ]
    }
   ],
   "source": [
    "class Student:\n",
    "    def __init__(self, name, roll_number, marks):\n",
    "        self.name = name\n",
    "        self.roll_number = roll_number\n",
    "        self.marks = marks\n",
    "\n",
    "    def display_info(self):\n",
    "        print(f\"Student Name: {self.name}\")\n",
    "        print(f\"Roll Number: {self.roll_number}\")\n",
    "        print(f\"Marks: {self.marks}\")\n",
    "\n",
    "\n",
    "if __name__ == \"__main__\":\n",
    "   \n",
    "    student1 = Student(\"Ayesha\", 101, 85)\n",
    "    student2 = Student(\"Bilal\", 102, 90)\n",
    "\n",
    "  \n",
    "    student1.display_info()\n",
    "    print()  \n",
    "    student2.display_info()"
   ]
  },
  {
   "cell_type": "code",
   "execution_count": null,
   "id": "47c13835-0a4e-429b-8e41-a10b08d6b407",
   "metadata": {},
   "outputs": [],
   "source": []
  },
  {
   "cell_type": "markdown",
   "id": "dba4b20e-8825-4812-9a78-4e31e15d0fbb",
   "metadata": {},
   "source": [
    "## **PART 6**"
   ]
  },
  {
   "cell_type": "code",
   "execution_count": 10,
   "id": "600e4b6d-0edc-4809-9215-3037abd7ec80",
   "metadata": {},
   "outputs": [
    {
     "name": "stdout",
     "output_type": "stream",
     "text": [
      "Rectangle 1:\n",
      "Length: 5\n",
      "Width: 3\n",
      "Area: 15\n",
      "Perimeter: 16\n",
      "\n",
      "Rectangle 2:\n",
      "Length: 10\n",
      "Width: 4\n",
      "Area: 40\n",
      "Perimeter: 28\n"
     ]
    }
   ],
   "source": [
    "class Rectangle:\n",
    "    def __init__(self, length, width):\n",
    "        self.length = length\n",
    "        self.width = width\n",
    "\n",
    "    def area(self):\n",
    "        \"\"\"Calculate the area of the rectangle.\"\"\"\n",
    "        return self.length * self.width\n",
    "\n",
    "    def perimeter(self):\n",
    "        \"\"\"Calculate the perimeter of the rectangle.\"\"\"\n",
    "        return 2 * (self.length + self.width)\n",
    "\n",
    "    def display_info(self):\n",
    "        \"\"\"Display the dimensions, area, and perimeter of the rectangle.\"\"\"\n",
    "        print(f\"Length: {self.length}\")\n",
    "        print(f\"Width: {self.width}\")\n",
    "        print(f\"Area: {self.area()}\")\n",
    "        print(f\"Perimeter: {self.perimeter()}\")\n",
    "\n",
    "\n",
    "if __name__ == \"__main__\":\n",
    "    \n",
    "    rectangle1 = Rectangle(5, 3)\n",
    "    rectangle2 = Rectangle(10, 4)\n",
    "\n",
    "   \n",
    "    print(\"Rectangle 1:\")\n",
    "    rectangle1.display_info()\n",
    "    print()  \n",
    "    print(\"Rectangle 2:\")\n",
    "    rectangle2.display_info()"
   ]
  },
  {
   "cell_type": "code",
   "execution_count": null,
   "id": "2dac64d2-76a2-4228-b31a-2a4662588e6a",
   "metadata": {},
   "outputs": [],
   "source": []
  },
  {
   "cell_type": "markdown",
   "id": "f0ed0ae0-2ef0-4728-ae4a-3e9545a10bcc",
   "metadata": {},
   "source": [
    "## ** PART 7**"
   ]
  },
  {
   "cell_type": "code",
   "execution_count": 11,
   "id": "f073381c-6d06-4c86-943f-cc54210f7cd3",
   "metadata": {},
   "outputs": [
    {
     "name": "stdout",
     "output_type": "stream",
     "text": [
      "Account Number: 123456789\n",
      "Current Balance: 1000\n",
      "Deposited: 500. New balance: 1500.\n",
      "Withdrew: 300. New balance: 1200.\n",
      "Insufficient funds for this withdrawal.\n",
      "Account Number: 123456789\n",
      "Current Balance: 1200\n"
     ]
    }
   ],
   "source": [
    "class BankAccount:\n",
    "    def __init__(self, account_number, initial_balance=0):\n",
    "        self.account_number = account_number\n",
    "        self.balance = initial_balance\n",
    "\n",
    "    def deposit(self, amount):\n",
    "        \"\"\"Deposit money into the account.\"\"\"\n",
    "        if amount > 0:\n",
    "            self.balance += amount\n",
    "            print(f\"Deposited: {amount}. New balance: {self.balance}.\")\n",
    "        else:\n",
    "            print(\"Deposit amount must be positive.\")\n",
    "\n",
    "    def withdraw(self, amount):\n",
    "        \"\"\"Withdraw money from the account.\"\"\"\n",
    "        if amount > 0:\n",
    "            if amount <= self.balance:\n",
    "                self.balance -= amount\n",
    "                print(f\"Withdrew: {amount}. New balance: {self.balance}.\")\n",
    "            else:\n",
    "                print(\"Insufficient funds for this withdrawal.\")\n",
    "        else:\n",
    "            print(\"Withdrawal amount must be positive.\")\n",
    "\n",
    "    def get_balance(self):\n",
    "        \"\"\"Return the current balance.\"\"\"\n",
    "        return self.balance\n",
    "\n",
    "    def display_account_info(self):\n",
    "        \"\"\"Display account information.\"\"\"\n",
    "        print(f\"Account Number: {self.account_number}\")\n",
    "        print(f\"Current Balance: {self.balance}\")\n",
    "\n",
    "# Example usage\n",
    "if __name__ == \"__main__\":\n",
    " \n",
    "    account = BankAccount(\"123456789\", 1000)\n",
    "\n",
    "\n",
    "    account.display_account_info()\n",
    "    \n",
    " \n",
    "    account.deposit(500)\n",
    "    \n",
    "\n",
    "    account.withdraw(300)\n",
    "    \n",
    " \n",
    "    account.withdraw(1500)\n",
    "    \n",
    "\n",
    "    account.display_account_info()"
   ]
  },
  {
   "cell_type": "code",
   "execution_count": null,
   "id": "9099031a-765d-4105-9288-a280ab03912a",
   "metadata": {},
   "outputs": [],
   "source": []
  },
  {
   "cell_type": "markdown",
   "id": "27e1c491-0c0f-4273-aaa5-7c6cb2ebe9c0",
   "metadata": {},
   "source": [
    "## ** PART 8**"
   ]
  },
  {
   "cell_type": "code",
   "execution_count": 13,
   "id": "330366dc-a937-4d4c-abc1-7b7d428f0dd2",
   "metadata": {},
   "outputs": [
    {
     "name": "stdout",
     "output_type": "stream",
     "text": [
      "Car 1 Information:\n",
      "Car Brand: Toyota\n",
      "Car Model: Corolla\n",
      "Mileage: 15 km/l\n",
      "\n",
      "Car 2 Information:\n",
      "Car Brand: Honda\n",
      "Car Model: Civic\n",
      "Mileage: 12 km/l\n"
     ]
    }
   ],
   "source": [
    "class Car:\n",
    "    def __init__(self, brand, model, mileage):\n",
    "        self.brand = brand\n",
    "        self.model = model\n",
    "        self.mileage = mileage\n",
    "\n",
    "    def display_info(self):\n",
    "        \"\"\"Display the car's information.\"\"\"\n",
    "        print(f\"Car Brand: {self.brand}\")\n",
    "        print(f\"Car Model: {self.model}\")\n",
    "        print(f\"Mileage: {self.mileage} km/l\")\n",
    "\n",
    "\n",
    "if __name__ == \"__main__\":\n",
    "   \n",
    "    car1 = Car(\"Toyota\", \"Corolla\", 15)\n",
    "    car2 = Car(\"Honda\", \"Civic\", 12)\n",
    "\n",
    "   \n",
    "    print(\"Car 1 Information:\")\n",
    "    car1.display_info()\n",
    "    print()  \n",
    "    print(\"Car 2 Information:\")\n",
    "    car2.display_info()"
   ]
  },
  {
   "cell_type": "code",
   "execution_count": null,
   "id": "388b0270-6c82-4105-be95-d87f28590098",
   "metadata": {},
   "outputs": [],
   "source": []
  },
  {
   "cell_type": "code",
   "execution_count": null,
   "id": "c9123720-bf9f-454f-b45c-ba160c41a138",
   "metadata": {},
   "outputs": [],
   "source": []
  }
 ],
 "metadata": {
  "kernelspec": {
   "display_name": "Python 3 (ipykernel)",
   "language": "python",
   "name": "python3"
  },
  "language_info": {
   "codemirror_mode": {
    "name": "ipython",
    "version": 3
   },
   "file_extension": ".py",
   "mimetype": "text/x-python",
   "name": "python",
   "nbconvert_exporter": "python",
   "pygments_lexer": "ipython3",
   "version": "3.12.4"
  }
 },
 "nbformat": 4,
 "nbformat_minor": 5
}
